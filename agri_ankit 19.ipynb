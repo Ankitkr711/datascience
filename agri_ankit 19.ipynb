{
 "cells": [
  {
   "cell_type": "code",
   "execution_count": 535,
   "metadata": {},
   "outputs": [],
   "source": [
    "import pandas as pd\n",
    "import numpy as np\n",
    "import matplotlib\n",
    "import seaborn as sns\n",
    "import matplotlib.pyplot as plt\n",
    "%matplotlib inline\n",
    "import numpy as np"
   ]
  },
  {
   "cell_type": "code",
   "execution_count": 536,
   "metadata": {},
   "outputs": [],
   "source": [
    "df=pd.read_csv(\"train_agri.csv\")"
   ]
  },
  {
   "cell_type": "code",
   "execution_count": 537,
   "metadata": {},
   "outputs": [
    {
     "data": {
      "text/html": [
       "<div>\n",
       "<style scoped>\n",
       "    .dataframe tbody tr th:only-of-type {\n",
       "        vertical-align: middle;\n",
       "    }\n",
       "\n",
       "    .dataframe tbody tr th {\n",
       "        vertical-align: top;\n",
       "    }\n",
       "\n",
       "    .dataframe thead th {\n",
       "        text-align: right;\n",
       "    }\n",
       "</style>\n",
       "<table border=\"1\" class=\"dataframe\">\n",
       "  <thead>\n",
       "    <tr style=\"text-align: right;\">\n",
       "      <th></th>\n",
       "      <th>ID</th>\n",
       "      <th>Estimated_Insects_Count</th>\n",
       "      <th>Crop_Type</th>\n",
       "      <th>Soil_Type</th>\n",
       "      <th>Pesticide_Use_Category</th>\n",
       "      <th>Number_Doses_Week</th>\n",
       "      <th>Number_Weeks_Used</th>\n",
       "      <th>Number_Weeks_Quit</th>\n",
       "      <th>Season</th>\n",
       "      <th>Crop_Damage</th>\n",
       "    </tr>\n",
       "  </thead>\n",
       "  <tbody>\n",
       "    <tr>\n",
       "      <th>0</th>\n",
       "      <td>F00000001</td>\n",
       "      <td>188</td>\n",
       "      <td>1</td>\n",
       "      <td>0</td>\n",
       "      <td>1</td>\n",
       "      <td>0</td>\n",
       "      <td>0.0</td>\n",
       "      <td>0</td>\n",
       "      <td>1</td>\n",
       "      <td>0</td>\n",
       "    </tr>\n",
       "    <tr>\n",
       "      <th>1</th>\n",
       "      <td>F00000003</td>\n",
       "      <td>209</td>\n",
       "      <td>1</td>\n",
       "      <td>0</td>\n",
       "      <td>1</td>\n",
       "      <td>0</td>\n",
       "      <td>0.0</td>\n",
       "      <td>0</td>\n",
       "      <td>2</td>\n",
       "      <td>1</td>\n",
       "    </tr>\n",
       "    <tr>\n",
       "      <th>2</th>\n",
       "      <td>F00000004</td>\n",
       "      <td>257</td>\n",
       "      <td>1</td>\n",
       "      <td>0</td>\n",
       "      <td>1</td>\n",
       "      <td>0</td>\n",
       "      <td>0.0</td>\n",
       "      <td>0</td>\n",
       "      <td>2</td>\n",
       "      <td>1</td>\n",
       "    </tr>\n",
       "    <tr>\n",
       "      <th>3</th>\n",
       "      <td>F00000005</td>\n",
       "      <td>257</td>\n",
       "      <td>1</td>\n",
       "      <td>1</td>\n",
       "      <td>1</td>\n",
       "      <td>0</td>\n",
       "      <td>0.0</td>\n",
       "      <td>0</td>\n",
       "      <td>2</td>\n",
       "      <td>1</td>\n",
       "    </tr>\n",
       "    <tr>\n",
       "      <th>4</th>\n",
       "      <td>F00000006</td>\n",
       "      <td>342</td>\n",
       "      <td>1</td>\n",
       "      <td>0</td>\n",
       "      <td>1</td>\n",
       "      <td>0</td>\n",
       "      <td>0.0</td>\n",
       "      <td>0</td>\n",
       "      <td>2</td>\n",
       "      <td>1</td>\n",
       "    </tr>\n",
       "  </tbody>\n",
       "</table>\n",
       "</div>"
      ],
      "text/plain": [
       "          ID  Estimated_Insects_Count  Crop_Type  Soil_Type  \\\n",
       "0  F00000001                      188          1          0   \n",
       "1  F00000003                      209          1          0   \n",
       "2  F00000004                      257          1          0   \n",
       "3  F00000005                      257          1          1   \n",
       "4  F00000006                      342          1          0   \n",
       "\n",
       "   Pesticide_Use_Category  Number_Doses_Week  Number_Weeks_Used  \\\n",
       "0                       1                  0                0.0   \n",
       "1                       1                  0                0.0   \n",
       "2                       1                  0                0.0   \n",
       "3                       1                  0                0.0   \n",
       "4                       1                  0                0.0   \n",
       "\n",
       "   Number_Weeks_Quit  Season  Crop_Damage  \n",
       "0                  0       1            0  \n",
       "1                  0       2            1  \n",
       "2                  0       2            1  \n",
       "3                  0       2            1  \n",
       "4                  0       2            1  "
      ]
     },
     "execution_count": 537,
     "metadata": {},
     "output_type": "execute_result"
    }
   ],
   "source": [
    "df.head()"
   ]
  },
  {
   "cell_type": "code",
   "execution_count": 538,
   "metadata": {},
   "outputs": [
    {
     "name": "stdout",
     "output_type": "stream",
     "text": [
      "<class 'pandas.core.frame.DataFrame'>\n",
      "RangeIndex: 4599 entries, 0 to 4598\n",
      "Data columns (total 10 columns):\n",
      " #   Column                   Non-Null Count  Dtype  \n",
      "---  ------                   --------------  -----  \n",
      " 0   ID                       4599 non-null   object \n",
      " 1   Estimated_Insects_Count  4599 non-null   int64  \n",
      " 2   Crop_Type                4599 non-null   int64  \n",
      " 3   Soil_Type                4599 non-null   int64  \n",
      " 4   Pesticide_Use_Category   4599 non-null   int64  \n",
      " 5   Number_Doses_Week        4599 non-null   int64  \n",
      " 6   Number_Weeks_Used        4157 non-null   float64\n",
      " 7   Number_Weeks_Quit        4599 non-null   int64  \n",
      " 8   Season                   4599 non-null   int64  \n",
      " 9   Crop_Damage              4599 non-null   int64  \n",
      "dtypes: float64(1), int64(8), object(1)\n",
      "memory usage: 359.4+ KB\n"
     ]
    }
   ],
   "source": [
    "df.info()"
   ]
  },
  {
   "cell_type": "code",
   "execution_count": 539,
   "metadata": {},
   "outputs": [],
   "source": [
    "#filling missing values\n",
    "df[\"Number_Weeks_Used\"]=df[\"Number_Weeks_Used\"].fillna(df[\"Number_Weeks_Used\"].median())"
   ]
  },
  {
   "cell_type": "code",
   "execution_count": 540,
   "metadata": {},
   "outputs": [
    {
     "data": {
      "text/plain": [
       "0    3820\n",
       "1     664\n",
       "2     115\n",
       "Name: Crop_Damage, dtype: int64"
      ]
     },
     "execution_count": 540,
     "metadata": {},
     "output_type": "execute_result"
    }
   ],
   "source": [
    "df[\"Crop_Damage\"].value_counts()\n"
   ]
  },
  {
   "cell_type": "code",
   "execution_count": 541,
   "metadata": {},
   "outputs": [
    {
     "data": {
      "text/plain": [
       "0    3565\n",
       "1    1034\n",
       "Name: Crop_Type, dtype: int64"
      ]
     },
     "execution_count": 541,
     "metadata": {},
     "output_type": "execute_result"
    }
   ],
   "source": [
    "df[\"Crop_Type\"].value_counts()"
   ]
  },
  {
   "cell_type": "code",
   "execution_count": 542,
   "metadata": {},
   "outputs": [
    {
     "data": {
      "text/plain": [
       "2    2327\n",
       "1    1379\n",
       "3     893\n",
       "Name: Season, dtype: int64"
      ]
     },
     "execution_count": 542,
     "metadata": {},
     "output_type": "execute_result"
    }
   ],
   "source": [
    "df[\"Season\"].value_counts()\n",
    "#here we are talking about 3 seasons in a year we can say summer raining ND winter."
   ]
  },
  {
   "cell_type": "code",
   "execution_count": 543,
   "metadata": {},
   "outputs": [
    {
     "data": {
      "text/plain": [
       "2    3205\n",
       "3    1349\n",
       "1      45\n",
       "Name: Pesticide_Use_Category, dtype: int64"
      ]
     },
     "execution_count": 543,
     "metadata": {},
     "output_type": "execute_result"
    }
   ],
   "source": [
    "df[\"Pesticide_Use_Category\"].value_counts()"
   ]
  },
  {
   "cell_type": "code",
   "execution_count": 544,
   "metadata": {},
   "outputs": [
    {
     "data": {
      "text/plain": [
       "0    2407\n",
       "1    2192\n",
       "Name: Soil_Type, dtype: int64"
      ]
     },
     "execution_count": 544,
     "metadata": {},
     "output_type": "execute_result"
    }
   ],
   "source": [
    "df[\"Soil_Type\"].value_counts()"
   ]
  },
  {
   "cell_type": "code",
   "execution_count": 545,
   "metadata": {},
   "outputs": [
    {
     "data": {
      "text/plain": [
       "<matplotlib.axes._subplots.AxesSubplot at 0x18fb9941f10>"
      ]
     },
     "execution_count": 545,
     "metadata": {},
     "output_type": "execute_result"
    },
    {
     "data": {
      "image/png": "[encoded data removed]",
      "text/plain": [
       "<Figure size 432x288 with 1 Axes>"
      ]
     },
     "metadata": {
      "needs_background": "light"
     },
     "output_type": "display_data"
    }
   ],
   "source": [
    "sns.barplot(x=df[\"Season\"],y=df[\"Estimated_Insects_Count\"],data=df)"
   ]
  },
  {
   "cell_type": "code",
   "execution_count": 546,
   "metadata": {},
   "outputs": [
    {
     "data": {
      "text/plain": [
       "<matplotlib.axes._subplots.AxesSubplot at 0x18fc0659e20>"
      ]
     },
     "execution_count": 546,
     "metadata": {},
     "output_type": "execute_result"
    },
    {
     "data": {
      "image/png": "[encoded data removed]",
      "text/plain": [
       "<Figure size 432x288 with 1 Axes>"
      ]
     },
     "metadata": {
      "needs_background": "light"
     },
     "output_type": "display_data"
    }
   ],
   "source": [
    "pd.crosstab(df[\"Crop_Type\"],df[\"Crop_Damage\"]).plot(kind='bar')"
   ]
  },
  {
   "cell_type": "code",
   "execution_count": 547,
   "metadata": {},
   "outputs": [
    {
     "data": {
      "text/plain": [
       "<matplotlib.axes._subplots.AxesSubplot at 0x18fc2d64790>"
      ]
     },
     "execution_count": 547,
     "metadata": {},
     "output_type": "execute_result"
    },
    {
     "data": {
      "image/png": "[encoded data removed]",
      "text/plain": [
       "<Figure size 432x288 with 1 Axes>"
      ]
     },
     "metadata": {
      "needs_background": "light"
     },
     "output_type": "display_data"
    }
   ],
   "source": [
    "sns.barplot(x=df[\"Crop_Type\"],y=df[\"Estimated_Insects_Count\"],data=df)"
   ]
  },
  {
   "cell_type": "code",
   "execution_count": 548,
   "metadata": {},
   "outputs": [
    {
     "data": {
      "text/plain": [
       "<matplotlib.axes._subplots.AxesSubplot at 0x18fc2db0550>"
      ]
     },
     "execution_count": 548,
     "metadata": {},
     "output_type": "execute_result"
    },
    {
     "data": {
      "image/png": "[encoded data removed]",
      "text/plain": [
       "<Figure size 432x288 with 1 Axes>"
      ]
     },
     "metadata": {
      "needs_background": "light"
     },
     "output_type": "display_data"
    }
   ],
   "source": [
    "sns.barplot(x=\"Season\",y=\"Estimated_Insects_Count\",hue=\"Crop_Type\",data=df)\n",
    "#as per this graph we can see that the crop number 1 is haveing more Estimated_Insects_Count,in season 1 as compare to others."
   ]
  },
  {
   "cell_type": "code",
   "execution_count": 549,
   "metadata": {},
   "outputs": [
    {
     "data": {
      "text/plain": [
       "<matplotlib.axes._subplots.AxesSubplot at 0x18fc2e1e370>"
      ]
     },
     "execution_count": 549,
     "metadata": {},
     "output_type": "execute_result"
    },
    {
     "data": {
      "image/png": "[encoded data removed]",
      "text/plain": [
       "<Figure size 432x288 with 1 Axes>"
      ]
     },
     "metadata": {
      "needs_background": "light"
     },
     "output_type": "display_data"
    }
   ],
   "source": [
    "sns.barplot(x=df[\"Season\"],y=df[\"Estimated_Insects_Count\"],data=df)\n",
    "#this graph represents the heighest insects count in available season ."
   ]
  },
  {
   "cell_type": "code",
   "execution_count": 550,
   "metadata": {},
   "outputs": [
    {
     "data": {
      "text/plain": [
       "<matplotlib.axes._subplots.AxesSubplot at 0x18fc2e89940>"
      ]
     },
     "execution_count": 550,
     "metadata": {},
     "output_type": "execute_result"
    },
    {
     "data": {
      "image/png": "[encoded data removed]",
      "text/plain": [
       "<Figure size 432x288 with 1 Axes>"
      ]
     },
     "metadata": {
      "needs_background": "light"
     },
     "output_type": "display_data"
    }
   ],
   "source": [
    "sns.barplot(x=df[\"Crop_Type\"],y=df[\"Number_Doses_Week\"],data=df)"
   ]
  },
  {
   "cell_type": "code",
   "execution_count": 551,
   "metadata": {},
   "outputs": [
    {
     "data": {
      "text/plain": [
       "<matplotlib.axes._subplots.AxesSubplot at 0x18fc2ec7610>"
      ]
     },
     "execution_count": 551,
     "metadata": {},
     "output_type": "execute_result"
    },
    {
     "data": {
      "image/png": "[encoded data removed]",
      "text/plain": [
       "<Figure size 432x288 with 1 Axes>"
      ]
     },
     "metadata": {
      "needs_background": "light"
     },
     "output_type": "display_data"
    }
   ],
   "source": [
    "sns.barplot(x=\"Crop_Type\",y=\"Number_Doses_Week\",hue=\"Pesticide_Use_Category\",data=df)\n",
    "#"
   ]
  },
  {
   "cell_type": "code",
   "execution_count": 552,
   "metadata": {},
   "outputs": [
    {
     "data": {
      "text/plain": [
       "Crop_Damage                1.000000\n",
       "Number_Weeks_Used          0.231439\n",
       "Estimated_Insects_Count    0.202312\n",
       "Pesticide_Use_Category     0.199195\n",
       "Crop_Type                  0.021772\n",
       "Season                    -0.016196\n",
       "Number_Doses_Week         -0.018363\n",
       "Soil_Type                 -0.059481\n",
       "Number_Weeks_Quit         -0.152918\n",
       "Name: Crop_Damage, dtype: float64"
      ]
     },
     "execution_count": 552,
     "metadata": {},
     "output_type": "execute_result"
    }
   ],
   "source": [
    "corr_matrix=df.corr()\n",
    "corr_matrix[\"Crop_Damage\"].sort_values(ascending=False)"
   ]
  },
  {
   "cell_type": "code",
   "execution_count": 553,
   "metadata": {},
   "outputs": [
    {
     "data": {
      "image/png": "[encoded data removed]",
      "text/plain": [
       "<Figure size 720x576 with 2 Axes>"
      ]
     },
     "metadata": {
      "needs_background": "light"
     },
     "output_type": "display_data"
    }
   ],
   "source": [
    "plt.figure(figsize=(10,8))\n",
    "sns.heatmap(df.corr(),annot=True,fmt=\".0%\",cmap='BuPu')\n",
    "plt.show()"
   ]
  },
  {
   "cell_type": "markdown",
   "metadata": {},
   "source": [
    "we can see that attributes like (Number_Weeks_Used,Number_Weeks_Quit,Pesticide_Use_Category,Estimated_Insects_Count)has a high correlation with target variable \"Crop_Damage\"\n",
    "and And the season crop_type, number_doses_week ,soil_type,Number_Weeks_Quit, are in neagtive correaltion."
   ]
  },
  {
   "cell_type": "code",
   "execution_count": 554,
   "metadata": {},
   "outputs": [],
   "source": [
    "df.drop(columns=[\"ID\",\"Season\",\"Number_Doses_Week\",\"Crop_Type\"],axis=1,inplace=True)"
   ]
  },
  {
   "cell_type": "code",
   "execution_count": 555,
   "metadata": {},
   "outputs": [
    {
     "data": {
      "text/plain": [
       "0    3820\n",
       "1     664\n",
       "2     115\n",
       "Name: Crop_Damage, dtype: int64"
      ]
     },
     "execution_count": 555,
     "metadata": {},
     "output_type": "execute_result"
    }
   ],
   "source": [
    "df[\"Crop_Damage\"].value_counts()"
   ]
  },
  {
   "cell_type": "code",
   "execution_count": 556,
   "metadata": {
    "scrolled": true
   },
   "outputs": [
    {
     "data": {
      "text/plain": [
       "Estimated_Insects_Count    0.911469\n",
       "Soil_Type                  0.093631\n",
       "Pesticide_Use_Category     0.678586\n",
       "Number_Weeks_Used          0.299898\n",
       "Number_Weeks_Quit          0.919771\n",
       "Crop_Damage                2.306933\n",
       "dtype: float64"
      ]
     },
     "execution_count": 556,
     "metadata": {},
     "output_type": "execute_result"
    }
   ],
   "source": [
    "df.skew()"
   ]
  },
  {
   "cell_type": "code",
   "execution_count": 557,
   "metadata": {},
   "outputs": [],
   "source": [
    "# df['Crop_Damage'] = df['Crop_Damage'].apply(np.int64)\n"
   ]
  },
  {
   "cell_type": "code",
   "execution_count": 558,
   "metadata": {},
   "outputs": [],
   "source": [
    "x_d=df.drop(\"Crop_Damage\",axis=1)\n",
    "y=df[\"Crop_Damage\"]"
   ]
  },
  {
   "cell_type": "code",
   "execution_count": 559,
   "metadata": {},
   "outputs": [],
   "source": [
    "from sklearn.preprocessing import StandardScaler\n",
    "sc=StandardScaler()\n",
    "sc.fit(x_d)\n",
    "x=sc.transform(x_d)\n",
    "x=pd.DataFrame(x,columns=x_d.columns)"
   ]
  },
  {
   "cell_type": "code",
   "execution_count": 560,
   "metadata": {},
   "outputs": [],
   "source": [
    "from sklearn.ensemble import RandomForestClassifier\n",
    "from sklearn.ensemble import GradientBoostingClassifier\n",
    "from sklearn.neighbors import KNeighborsClassifier\n",
    "from sklearn.tree import DecisionTreeClassifier\n",
    "from sklearn.metrics import accuracy_score,confusion_matrix,classification_report\n",
    "from sklearn.metrics import f1_score\n",
    "from sklearn import svm  \n",
    "from sklearn.metrics import precision_score\n",
    "from sklearn.model_selection import cross_val_score\n",
    "from sklearn.model_selection import GridSearchCV\n",
    "from sklearn.metrics import recall_score\n",
    "from sklearn.model_selection import train_test_split"
   ]
  },
  {
   "cell_type": "code",
   "execution_count": 561,
   "metadata": {},
   "outputs": [],
   "source": [
    "from sklearn.model_selection import train_test_split\n",
    "\n",
    "X_train,X_test,Y_train,Y_test=train_test_split(x,y,random_state = 47,test_size=0.20)\n"
   ]
  },
  {
   "cell_type": "code",
   "execution_count": 562,
   "metadata": {},
   "outputs": [],
   "source": [
    "from sklearn.ensemble import RandomForestClassifier\n",
    "\n",
    "from sklearn.neighbors import KNeighborsClassifier\n",
    "from sklearn.tree import DecisionTreeClassifier\n",
    "from sklearn.metrics import accuracy_score,confusion_matrix,classification_report\n",
    "from sklearn.metrics import f1_score\n",
    "from sklearn import svm  \n",
    "from sklearn.metrics import precision_score\n",
    "from sklearn.model_selection import cross_val_score\n",
    "\n",
    "from sklearn.metrics import recall_score"
   ]
  },
  {
   "cell_type": "code",
   "execution_count": 563,
   "metadata": {},
   "outputs": [
    {
     "name": "stdout",
     "output_type": "stream",
     "text": [
      "Score of DecisionTreeClassifier() is 0.7576086956521739\n",
      "Cross val score: 0.736252779486209\n",
      "\n",
      "\n",
      "Score of SVC() is 0.8358695652173913\n",
      "Cross val score: 0.8330068126981123\n",
      "\n",
      "\n",
      "Score of KNeighborsClassifier() is 0.8304347826086956\n",
      "Cross val score: 0.8062646070870985\n",
      "\n",
      "\n",
      "Score of GradientBoostingClassifier() is 0.8282608695652174\n",
      "Cross val score: 0.8230053933860055\n",
      "\n",
      "\n"
     ]
    }
   ],
   "source": [
    "model=[DecisionTreeClassifier(),svm.SVC(),KNeighborsClassifier(),GradientBoostingClassifier()]\n",
    "for m in model:\n",
    "    m.fit(X_train,Y_train)\n",
    "    predm=m.predict(X_test)\n",
    "    print(\"Score of\",m,\"is\",accuracy_score(Y_test,predm))\n",
    "    print(\"Cross val score:\",cross_val_score(m,x,y,cv=5,scoring=\"accuracy\").mean())\n",
    "    print(\"\\n\")\n"
   ]
  },
  {
   "cell_type": "code",
   "execution_count": 564,
   "metadata": {},
   "outputs": [
    {
     "name": "stdout",
     "output_type": "stream",
     "text": [
      "Accuracy score is: 0.8358695652173913\n",
      "F1 score is: 0.3398917915460619\n",
      "Precision score is: 0.5214854818815214\n",
      "Recall score is: 0.3525037311512531\n"
     ]
    },
    {
     "name": "stderr",
     "output_type": "stream",
     "text": [
      "C:\\Users\\Preeti kumari\\anaconda3\\lib\\site-packages\\sklearn\\metrics\\_classification.py:1221: UndefinedMetricWarning: Precision is ill-defined and being set to 0.0 in labels with no predicted samples. Use `zero_division` parameter to control this behavior.\n",
      "  _warn_prf(average, modifier, msg_start, len(result))\n"
     ]
    }
   ],
   "source": [
    "model=svm.SVC(C= 9, kernel= 'rbf')\n",
    "model.fit(X_train,Y_train)\n",
    "ypred=model.predict(X_test)\n",
    "print(\"Accuracy score is:\",accuracy_score(Y_test,ypred))\n",
    "print(\"F1 score is:\",f1_score(Y_test,ypred,average='macro'))\n",
    "print('Precision score is:',precision_score(Y_test, ypred, average='macro'))\n",
    "print(\"Recall score is:\",recall_score(Y_test,ypred,average=\"macro\"))"
   ]
  },
  {
   "cell_type": "code",
   "execution_count": 565,
   "metadata": {},
   "outputs": [],
   "source": [
    "df_o=pd.DataFrame(ypred)\n",
    "df_o.to_csv(\"agri_ankit.csv\")"
   ]
  },
  {
   "cell_type": "code",
   "execution_count": 566,
   "metadata": {},
   "outputs": [
    {
     "data": {
      "text/plain": [
       "['agri_ankit.pkl']"
      ]
     },
     "execution_count": 566,
     "metadata": {},
     "output_type": "execute_result"
    }
   ],
   "source": [
    "import joblib\n",
    "joblib.dump(model,\"agri_ankit.pkl\")"
   ]
  },
  {
   "cell_type": "code",
   "execution_count": 567,
   "metadata": {},
   "outputs": [],
   "source": [
    "agri_test=pd.read_csv(\"test_agri.csv\")"
   ]
  },
  {
   "cell_type": "code",
   "execution_count": 568,
   "metadata": {},
   "outputs": [
    {
     "data": {
      "text/html": [
       "<div>\n",
       "<style scoped>\n",
       "    .dataframe tbody tr th:only-of-type {\n",
       "        vertical-align: middle;\n",
       "    }\n",
       "\n",
       "    .dataframe tbody tr th {\n",
       "        vertical-align: top;\n",
       "    }\n",
       "\n",
       "    .dataframe thead th {\n",
       "        text-align: right;\n",
       "    }\n",
       "</style>\n",
       "<table border=\"1\" class=\"dataframe\">\n",
       "  <thead>\n",
       "    <tr style=\"text-align: right;\">\n",
       "      <th></th>\n",
       "      <th>ID</th>\n",
       "      <th>Estimated_Insects_Count</th>\n",
       "      <th>Crop_Type</th>\n",
       "      <th>Soil_Type</th>\n",
       "      <th>Pesticide_Use_Category</th>\n",
       "      <th>Number_Doses_Week</th>\n",
       "      <th>Number_Weeks_Used</th>\n",
       "      <th>Number_Weeks_Quit</th>\n",
       "      <th>Season</th>\n",
       "    </tr>\n",
       "  </thead>\n",
       "  <tbody>\n",
       "    <tr>\n",
       "      <th>0</th>\n",
       "      <td>F00000002</td>\n",
       "      <td>188</td>\n",
       "      <td>1</td>\n",
       "      <td>1</td>\n",
       "      <td>1</td>\n",
       "      <td>0</td>\n",
       "      <td>NaN</td>\n",
       "      <td>0</td>\n",
       "      <td>2</td>\n",
       "    </tr>\n",
       "    <tr>\n",
       "      <th>1</th>\n",
       "      <td>F00000007</td>\n",
       "      <td>410</td>\n",
       "      <td>1</td>\n",
       "      <td>1</td>\n",
       "      <td>1</td>\n",
       "      <td>0</td>\n",
       "      <td>0.0</td>\n",
       "      <td>0</td>\n",
       "      <td>2</td>\n",
       "    </tr>\n",
       "    <tr>\n",
       "      <th>2</th>\n",
       "      <td>F00000011</td>\n",
       "      <td>626</td>\n",
       "      <td>1</td>\n",
       "      <td>0</td>\n",
       "      <td>1</td>\n",
       "      <td>0</td>\n",
       "      <td>0.0</td>\n",
       "      <td>0</td>\n",
       "      <td>2</td>\n",
       "    </tr>\n",
       "    <tr>\n",
       "      <th>3</th>\n",
       "      <td>F00000013</td>\n",
       "      <td>731</td>\n",
       "      <td>1</td>\n",
       "      <td>0</td>\n",
       "      <td>1</td>\n",
       "      <td>0</td>\n",
       "      <td>0.0</td>\n",
       "      <td>0</td>\n",
       "      <td>2</td>\n",
       "    </tr>\n",
       "    <tr>\n",
       "      <th>4</th>\n",
       "      <td>F00000014</td>\n",
       "      <td>789</td>\n",
       "      <td>0</td>\n",
       "      <td>0</td>\n",
       "      <td>1</td>\n",
       "      <td>0</td>\n",
       "      <td>0.0</td>\n",
       "      <td>0</td>\n",
       "      <td>1</td>\n",
       "    </tr>\n",
       "  </tbody>\n",
       "</table>\n",
       "</div>"
      ],
      "text/plain": [
       "          ID  Estimated_Insects_Count  Crop_Type  Soil_Type  \\\n",
       "0  F00000002                      188          1          1   \n",
       "1  F00000007                      410          1          1   \n",
       "2  F00000011                      626          1          0   \n",
       "3  F00000013                      731          1          0   \n",
       "4  F00000014                      789          0          0   \n",
       "\n",
       "   Pesticide_Use_Category  Number_Doses_Week  Number_Weeks_Used  \\\n",
       "0                       1                  0                NaN   \n",
       "1                       1                  0                0.0   \n",
       "2                       1                  0                0.0   \n",
       "3                       1                  0                0.0   \n",
       "4                       1                  0                0.0   \n",
       "\n",
       "   Number_Weeks_Quit  Season  \n",
       "0                  0       2  \n",
       "1                  0       2  \n",
       "2                  0       2  \n",
       "3                  0       2  \n",
       "4                  0       1  "
      ]
     },
     "execution_count": 568,
     "metadata": {},
     "output_type": "execute_result"
    }
   ],
   "source": [
    "agri_test.head()"
   ]
  },
  {
   "cell_type": "code",
   "execution_count": 569,
   "metadata": {},
   "outputs": [
    {
     "name": "stdout",
     "output_type": "stream",
     "text": [
      "<class 'pandas.core.frame.DataFrame'>\n",
      "RangeIndex: 1199 entries, 0 to 1198\n",
      "Data columns (total 9 columns):\n",
      " #   Column                   Non-Null Count  Dtype  \n",
      "---  ------                   --------------  -----  \n",
      " 0   ID                       1199 non-null   object \n",
      " 1   Estimated_Insects_Count  1199 non-null   int64  \n",
      " 2   Crop_Type                1199 non-null   int64  \n",
      " 3   Soil_Type                1199 non-null   int64  \n",
      " 4   Pesticide_Use_Category   1199 non-null   int64  \n",
      " 5   Number_Doses_Week        1199 non-null   int64  \n",
      " 6   Number_Weeks_Used        1080 non-null   float64\n",
      " 7   Number_Weeks_Quit        1199 non-null   int64  \n",
      " 8   Season                   1199 non-null   int64  \n",
      "dtypes: float64(1), int64(7), object(1)\n",
      "memory usage: 84.4+ KB\n"
     ]
    }
   ],
   "source": [
    "agri_test.info()"
   ]
  },
  {
   "cell_type": "code",
   "execution_count": 570,
   "metadata": {},
   "outputs": [],
   "source": [
    "agri_test[\"Number_Weeks_Used\"]=agri_test[\"Number_Weeks_Used\"].fillna(agri_test[\"Number_Weeks_Used\"].median())\n",
    "#imputing median in the null value"
   ]
  },
  {
   "cell_type": "code",
   "execution_count": 571,
   "metadata": {},
   "outputs": [
    {
     "data": {
      "text/plain": [
       "ID                         0\n",
       "Estimated_Insects_Count    0\n",
       "Crop_Type                  0\n",
       "Soil_Type                  0\n",
       "Pesticide_Use_Category     0\n",
       "Number_Doses_Week          0\n",
       "Number_Weeks_Used          0\n",
       "Number_Weeks_Quit          0\n",
       "Season                     0\n",
       "dtype: int64"
      ]
     },
     "execution_count": 571,
     "metadata": {},
     "output_type": "execute_result"
    }
   ],
   "source": [
    "agri_test.isnull().sum()\n",
    "#no null values"
   ]
  },
  {
   "cell_type": "code",
   "execution_count": 572,
   "metadata": {},
   "outputs": [],
   "source": [
    "agri_test.drop(columns=[\"ID\",\"Season\",\"Number_Doses_Week\",\"Crop_Type\"],axis=1,inplace=True)\n",
    "#dropping column as per finding relation between the"
   ]
  },
  {
   "cell_type": "code",
   "execution_count": 573,
   "metadata": {},
   "outputs": [
    {
     "data": {
      "text/plain": [
       "Estimated_Insects_Count    1.098665\n",
       "Soil_Type                  0.179422\n",
       "Pesticide_Use_Category     0.089675\n",
       "Number_Weeks_Used          0.245465\n",
       "Number_Weeks_Quit          1.191013\n",
       "dtype: float64"
      ]
     },
     "execution_count": 573,
     "metadata": {},
     "output_type": "execute_result"
    }
   ],
   "source": [
    "agri_test.skew()"
   ]
  },
  {
   "cell_type": "code",
   "execution_count": 574,
   "metadata": {},
   "outputs": [],
   "source": [
    "from sklearn.preprocessing import power_transform\n",
    "agri_test_sk=power_transform(agri_test,method=\"yeo-johnson\")\n",
    "agri_test_sk=pd.DataFrame(agri_test_sk,columns=agri_test.columns)"
   ]
  },
  {
   "cell_type": "code",
   "execution_count": 575,
   "metadata": {},
   "outputs": [
    {
     "data": {
      "text/plain": [
       "Estimated_Insects_Count   -0.016231\n",
       "Soil_Type                  0.179422\n",
       "Pesticide_Use_Category    -0.020323\n",
       "Number_Weeks_Used         -0.010228\n",
       "Number_Weeks_Quit          0.115384\n",
       "dtype: float64"
      ]
     },
     "execution_count": 575,
     "metadata": {},
     "output_type": "execute_result"
    }
   ],
   "source": [
    "agri_test_sk.skew()"
   ]
  },
  {
   "cell_type": "code",
   "execution_count": 576,
   "metadata": {},
   "outputs": [],
   "source": [
    "from sklearn.preprocessing import StandardScaler\n",
    "sc=StandardScaler()\n",
    "sc.fit(agri_test_sk)\n",
    "x_agri=sc.transform(agri_test_sk)\n",
    "x_agri=pd.DataFrame(x_agri,columns=agri_test_sk.columns)"
   ]
  },
  {
   "cell_type": "code",
   "execution_count": 577,
   "metadata": {},
   "outputs": [],
   "source": [
    "model=svm.SVC()\n",
    "model.fit(X_train,Y_train)\n",
    "y_pred=model.predict(x_agri)\n"
   ]
  },
  {
   "cell_type": "code",
   "execution_count": 578,
   "metadata": {},
   "outputs": [],
   "source": [
    "df_pred=pd.DataFrame(y_pred)\n",
    "df_pred.to_csv(\"agri_ankit.csv\")"
   ]
  },
  {
   "cell_type": "code",
   "execution_count": 579,
   "metadata": {},
   "outputs": [
    {
     "data": {
      "text/plain": [
       "array([1, 0], dtype=int64)"
      ]
     },
     "execution_count": 579,
     "metadata": {},
     "output_type": "execute_result"
    }
   ],
   "source": [
    "df_pred[0].unique()"
   ]
  },
  {
   "cell_type": "code",
   "execution_count": 580,
   "metadata": {},
   "outputs": [
    {
     "data": {
      "text/plain": [
       "0    1177\n",
       "1      22\n",
       "Name: 0, dtype: int64"
      ]
     },
     "execution_count": 580,
     "metadata": {},
     "output_type": "execute_result"
    }
   ],
   "source": [
    "df_pred[0].value_counts()"
   ]
  },
  {
   "cell_type": "code",
   "execution_count": 583,
   "metadata": {},
   "outputs": [
    {
     "data": {
      "text/plain": [
       "['agri_pose.pkl']"
      ]
     },
     "execution_count": 583,
     "metadata": {},
     "output_type": "execute_result"
    }
   ],
   "source": [
    "import joblib\n",
    "joblib.dump(model,\"agri_pose.pkl\")"
   ]
  },
  {
   "cell_type": "code",
   "execution_count": null,
   "metadata": {},
   "outputs": [],
   "source": []
  }
 ],
 "metadata": {
  "kernelspec": {
   "display_name": "Python 3",
   "language": "python",
   "name": "python3"
  },
  "language_info": {
   "codemirror_mode": {
    "name": "ipython",
    "version": 3
   },
   "file_extension": ".py",
   "mimetype": "text/x-python",
   "name": "python",
   "nbconvert_exporter": "python",
   "pygments_lexer": "ipython3",
   "version": "3.8.3"
  }
 },
 "nbformat": 4,
 "nbformat_minor": 4
}
