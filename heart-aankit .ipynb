{
 "cells": [
  {
   "cell_type": "code",
   "execution_count": 1,
   "metadata": {},
   "outputs": [],
   "source": [
    "import pandas as pd\n",
    "import pandas as pd\n",
    "import numpy as np\n",
    "import matplotlib\n",
    "import seaborn as sns\n",
    "import matplotlib.pyplot as plt\n",
    "%matplotlib inline\n",
    "import numpy as np\n",
    "np.warnings.filterwarnings('ignore')\n",
    "from numpy import nan"
   ]
  },
  {
   "cell_type": "code",
   "execution_count": 2,
   "metadata": {},
   "outputs": [],
   "source": [
    "df=pd.read_csv(\"heart_disease.csv\")"
   ]
  },
  {
   "cell_type": "code",
   "execution_count": 3,
   "metadata": {
    "scrolled": true
   },
   "outputs": [
    {
     "data": {
      "text/html": [
       "<div>\n",
       "<style scoped>\n",
       "    .dataframe tbody tr th:only-of-type {\n",
       "        vertical-align: middle;\n",
       "    }\n",
       "\n",
       "    .dataframe tbody tr th {\n",
       "        vertical-align: top;\n",
       "    }\n",
       "\n",
       "    .dataframe thead th {\n",
       "        text-align: right;\n",
       "    }\n",
       "</style>\n",
       "<table border=\"1\" class=\"dataframe\">\n",
       "  <thead>\n",
       "    <tr style=\"text-align: right;\">\n",
       "      <th></th>\n",
       "      <th>(age)</th>\n",
       "      <th>(sex)</th>\n",
       "      <th>(cp)</th>\n",
       "      <th>(trestbps)</th>\n",
       "      <th>(chol)</th>\n",
       "      <th>(fbs)</th>\n",
       "      <th>(restecg)</th>\n",
       "      <th>(thalach)</th>\n",
       "      <th>(exang)</th>\n",
       "      <th>(oldpeak)</th>\n",
       "      <th>(slope)</th>\n",
       "      <th>(ca)</th>\n",
       "      <th>(thal)</th>\n",
       "      <th>(num) (the predicted attribute)</th>\n",
       "    </tr>\n",
       "  </thead>\n",
       "  <tbody>\n",
       "    <tr>\n",
       "      <th>0</th>\n",
       "      <td>63</td>\n",
       "      <td>1</td>\n",
       "      <td>4</td>\n",
       "      <td>140</td>\n",
       "      <td>260</td>\n",
       "      <td>0</td>\n",
       "      <td>1</td>\n",
       "      <td>112</td>\n",
       "      <td>1</td>\n",
       "      <td>3</td>\n",
       "      <td>2</td>\n",
       "      <td>?</td>\n",
       "      <td>?</td>\n",
       "      <td>2</td>\n",
       "    </tr>\n",
       "    <tr>\n",
       "      <th>1</th>\n",
       "      <td>44</td>\n",
       "      <td>1</td>\n",
       "      <td>4</td>\n",
       "      <td>130</td>\n",
       "      <td>209</td>\n",
       "      <td>0</td>\n",
       "      <td>1</td>\n",
       "      <td>127</td>\n",
       "      <td>0</td>\n",
       "      <td>0</td>\n",
       "      <td>?</td>\n",
       "      <td>?</td>\n",
       "      <td>?</td>\n",
       "      <td>0</td>\n",
       "    </tr>\n",
       "    <tr>\n",
       "      <th>2</th>\n",
       "      <td>60</td>\n",
       "      <td>1</td>\n",
       "      <td>4</td>\n",
       "      <td>132</td>\n",
       "      <td>218</td>\n",
       "      <td>0</td>\n",
       "      <td>1</td>\n",
       "      <td>140</td>\n",
       "      <td>1</td>\n",
       "      <td>1.5</td>\n",
       "      <td>3</td>\n",
       "      <td>?</td>\n",
       "      <td>?</td>\n",
       "      <td>2</td>\n",
       "    </tr>\n",
       "    <tr>\n",
       "      <th>3</th>\n",
       "      <td>55</td>\n",
       "      <td>1</td>\n",
       "      <td>4</td>\n",
       "      <td>142</td>\n",
       "      <td>228</td>\n",
       "      <td>0</td>\n",
       "      <td>1</td>\n",
       "      <td>149</td>\n",
       "      <td>1</td>\n",
       "      <td>2.5</td>\n",
       "      <td>1</td>\n",
       "      <td>?</td>\n",
       "      <td>?</td>\n",
       "      <td>1</td>\n",
       "    </tr>\n",
       "    <tr>\n",
       "      <th>4</th>\n",
       "      <td>66</td>\n",
       "      <td>1</td>\n",
       "      <td>3</td>\n",
       "      <td>110</td>\n",
       "      <td>213</td>\n",
       "      <td>1</td>\n",
       "      <td>2</td>\n",
       "      <td>99</td>\n",
       "      <td>1</td>\n",
       "      <td>1.3</td>\n",
       "      <td>2</td>\n",
       "      <td>?</td>\n",
       "      <td>?</td>\n",
       "      <td>0</td>\n",
       "    </tr>\n",
       "  </tbody>\n",
       "</table>\n",
       "</div>"
      ],
      "text/plain": [
       "   (age)  (sex)  (cp) (trestbps) (chol) (fbs)  (restecg) (thalach) (exang)  \\\n",
       "0     63      1     4        140    260     0          1       112       1   \n",
       "1     44      1     4        130    209     0          1       127       0   \n",
       "2     60      1     4        132    218     0          1       140       1   \n",
       "3     55      1     4        142    228     0          1       149       1   \n",
       "4     66      1     3        110    213     1          2        99       1   \n",
       "\n",
       "   (oldpeak)  (slope) (ca)  (thal)  (num) (the predicted attribute)  \n",
       "0          3        2    ?       ?                                2  \n",
       "1          0        ?    ?       ?                                0  \n",
       "2        1.5        3    ?       ?                                2  \n",
       "3        2.5        1    ?       ?                                1  \n",
       "4        1.3        2    ?       ?                                0  "
      ]
     },
     "execution_count": 3,
     "metadata": {},
     "output_type": "execute_result"
    }
   ],
   "source": [
    "\n",
    "df.drop(columns=[\"Unnamed: 14\",\"Unnamed: 15\"],axis=1,inplace=True)\n",
    "df.head()\n",
    "#sex is the classiffied in numbers as 1 for male and 0 for female \n",
    "# (the predicted attribute)is classified as he suffered heart attack as \n",
    "#age - age in years\n",
    "#cp - chest pain type\n",
    "#trestbps - resting blood pressure (in mm Hg on admission to the hospital)\n",
    "#chol - serum cholestoral in mg/dl\n",
    "#fbs - (fasting blood sugar > 120 mg/dl) (1 = true; 0 = false)\n",
    "#restecg - resting electrocardiographic results\n",
    "#thalach - maximum heart rate achieved\n",
    "#exang - exercise induced angina (1 = yes; 0 = no)\n",
    "#oldpeak - ST depression induced by exercise relative to rest\n",
    "#slope - the slope of the peak exercise ST segment\n",
    "#ca - number of major vessels (0-3) colored by flourosopy\n",
    "#thal - 3 = normal; 6 = fixed defect; 7 = reversable defect\n",
    "\n"
   ]
  },
  {
   "cell_type": "code",
   "execution_count": 4,
   "metadata": {},
   "outputs": [],
   "source": [
    "age_labels = ['30-39', '40-49', '50-59', '60-69', '70-79']\n",
    "df['age_group'] = pd.cut(df[\"(age)\"], range(30, 81, 10), right=False, labels=age_labels)"
   ]
  },
  {
   "cell_type": "code",
   "execution_count": 5,
   "metadata": {},
   "outputs": [],
   "source": [
    "df.rename(columns={'(age)': 'Age', '(sex)': 'Gender','(num) (the predicted attribute)':\"Heart_attack\",'(chol)':'Cholestoral','(cp)':'Chest_pain'}, inplace=True)"
   ]
  },
  {
   "cell_type": "code",
   "execution_count": 6,
   "metadata": {
    "scrolled": true
   },
   "outputs": [
    {
     "data": {
      "text/html": [
       "<div>\n",
       "<style scoped>\n",
       "    .dataframe tbody tr th:only-of-type {\n",
       "        vertical-align: middle;\n",
       "    }\n",
       "\n",
       "    .dataframe tbody tr th {\n",
       "        vertical-align: top;\n",
       "    }\n",
       "\n",
       "    .dataframe thead th {\n",
       "        text-align: right;\n",
       "    }\n",
       "</style>\n",
       "<table border=\"1\" class=\"dataframe\">\n",
       "  <thead>\n",
       "    <tr style=\"text-align: right;\">\n",
       "      <th></th>\n",
       "      <th>Age</th>\n",
       "      <th>Gender</th>\n",
       "      <th>Chest_pain</th>\n",
       "      <th>(trestbps)</th>\n",
       "      <th>Cholestoral</th>\n",
       "      <th>(fbs)</th>\n",
       "      <th>(restecg)</th>\n",
       "      <th>(thalach)</th>\n",
       "      <th>(exang)</th>\n",
       "      <th>(oldpeak)</th>\n",
       "      <th>(slope)</th>\n",
       "      <th>(ca)</th>\n",
       "      <th>(thal)</th>\n",
       "      <th>Heart_attack</th>\n",
       "      <th>age_group</th>\n",
       "    </tr>\n",
       "  </thead>\n",
       "  <tbody>\n",
       "    <tr>\n",
       "      <th>0</th>\n",
       "      <td>63</td>\n",
       "      <td>1</td>\n",
       "      <td>4</td>\n",
       "      <td>140</td>\n",
       "      <td>260</td>\n",
       "      <td>0</td>\n",
       "      <td>1</td>\n",
       "      <td>112</td>\n",
       "      <td>1</td>\n",
       "      <td>3</td>\n",
       "      <td>2</td>\n",
       "      <td>?</td>\n",
       "      <td>?</td>\n",
       "      <td>2</td>\n",
       "      <td>60-69</td>\n",
       "    </tr>\n",
       "    <tr>\n",
       "      <th>1</th>\n",
       "      <td>44</td>\n",
       "      <td>1</td>\n",
       "      <td>4</td>\n",
       "      <td>130</td>\n",
       "      <td>209</td>\n",
       "      <td>0</td>\n",
       "      <td>1</td>\n",
       "      <td>127</td>\n",
       "      <td>0</td>\n",
       "      <td>0</td>\n",
       "      <td>?</td>\n",
       "      <td>?</td>\n",
       "      <td>?</td>\n",
       "      <td>0</td>\n",
       "      <td>40-49</td>\n",
       "    </tr>\n",
       "    <tr>\n",
       "      <th>2</th>\n",
       "      <td>60</td>\n",
       "      <td>1</td>\n",
       "      <td>4</td>\n",
       "      <td>132</td>\n",
       "      <td>218</td>\n",
       "      <td>0</td>\n",
       "      <td>1</td>\n",
       "      <td>140</td>\n",
       "      <td>1</td>\n",
       "      <td>1.5</td>\n",
       "      <td>3</td>\n",
       "      <td>?</td>\n",
       "      <td>?</td>\n",
       "      <td>2</td>\n",
       "      <td>60-69</td>\n",
       "    </tr>\n",
       "    <tr>\n",
       "      <th>3</th>\n",
       "      <td>55</td>\n",
       "      <td>1</td>\n",
       "      <td>4</td>\n",
       "      <td>142</td>\n",
       "      <td>228</td>\n",
       "      <td>0</td>\n",
       "      <td>1</td>\n",
       "      <td>149</td>\n",
       "      <td>1</td>\n",
       "      <td>2.5</td>\n",
       "      <td>1</td>\n",
       "      <td>?</td>\n",
       "      <td>?</td>\n",
       "      <td>1</td>\n",
       "      <td>50-59</td>\n",
       "    </tr>\n",
       "    <tr>\n",
       "      <th>4</th>\n",
       "      <td>66</td>\n",
       "      <td>1</td>\n",
       "      <td>3</td>\n",
       "      <td>110</td>\n",
       "      <td>213</td>\n",
       "      <td>1</td>\n",
       "      <td>2</td>\n",
       "      <td>99</td>\n",
       "      <td>1</td>\n",
       "      <td>1.3</td>\n",
       "      <td>2</td>\n",
       "      <td>?</td>\n",
       "      <td>?</td>\n",
       "      <td>0</td>\n",
       "      <td>60-69</td>\n",
       "    </tr>\n",
       "  </tbody>\n",
       "</table>\n",
       "</div>"
      ],
      "text/plain": [
       "   Age  Gender  Chest_pain (trestbps) Cholestoral (fbs)  (restecg) (thalach)  \\\n",
       "0   63       1           4        140         260     0          1       112   \n",
       "1   44       1           4        130         209     0          1       127   \n",
       "2   60       1           4        132         218     0          1       140   \n",
       "3   55       1           4        142         228     0          1       149   \n",
       "4   66       1           3        110         213     1          2        99   \n",
       "\n",
       "  (exang)  (oldpeak)  (slope) (ca)  (thal)  Heart_attack age_group  \n",
       "0       1          3        2    ?       ?             2     60-69  \n",
       "1       0          0        ?    ?       ?             0     40-49  \n",
       "2       1        1.5        3    ?       ?             2     60-69  \n",
       "3       1        2.5        1    ?       ?             1     50-59  \n",
       "4       1        1.3        2    ?       ?             0     60-69  "
      ]
     },
     "execution_count": 6,
     "metadata": {},
     "output_type": "execute_result"
    }
   ],
   "source": [
    "df.head()"
   ]
  },
  {
   "cell_type": "code",
   "execution_count": 7,
   "metadata": {},
   "outputs": [],
   "source": [
    "df.replace(to_replace =\"?\", \n",
    "                 value =nan,inplace=True) \n",
    "#replacing all \"?\" with nan\n"
   ]
  },
  {
   "cell_type": "code",
   "execution_count": 8,
   "metadata": {},
   "outputs": [
    {
     "name": "stdout",
     "output_type": "stream",
     "text": [
      "<class 'pandas.core.frame.DataFrame'>\n",
      "RangeIndex: 200 entries, 0 to 199\n",
      "Data columns (total 15 columns):\n",
      " #   Column        Non-Null Count  Dtype   \n",
      "---  ------        --------------  -----   \n",
      " 0   Age           200 non-null    int64   \n",
      " 1   Gender        200 non-null    int64   \n",
      " 2   Chest_pain    200 non-null    int64   \n",
      " 3   (trestbps)    144 non-null    object  \n",
      " 4   Cholestoral   193 non-null    object  \n",
      " 5   (fbs)         193 non-null    object  \n",
      " 6   (restecg)     200 non-null    int64   \n",
      " 7   (thalach)     147 non-null    object  \n",
      " 8   (exang)       147 non-null    object  \n",
      " 9    (oldpeak)    144 non-null    object  \n",
      " 10   (slope)      98 non-null     object  \n",
      " 11  (ca)          2 non-null      object  \n",
      " 12   (thal)       34 non-null     object  \n",
      " 13  Heart_attack  200 non-null    int64   \n",
      " 14  age_group     200 non-null    category\n",
      "dtypes: category(1), int64(5), object(9)\n",
      "memory usage: 22.4+ KB\n"
     ]
    }
   ],
   "source": [
    "df.info()"
   ]
  },
  {
   "cell_type": "code",
   "execution_count": 9,
   "metadata": {},
   "outputs": [],
   "source": [
    "#dropping columns with less values as total value in each column is 200\n",
    "df.drop(columns=[\"(ca)\"],axis=1,inplace=True)"
   ]
  },
  {
   "cell_type": "code",
   "execution_count": 10,
   "metadata": {},
   "outputs": [
    {
     "name": "stdout",
     "output_type": "stream",
     "text": [
      "<class 'pandas.core.frame.DataFrame'>\n",
      "RangeIndex: 200 entries, 0 to 199\n",
      "Data columns (total 14 columns):\n",
      " #   Column        Non-Null Count  Dtype   \n",
      "---  ------        --------------  -----   \n",
      " 0   Age           200 non-null    int64   \n",
      " 1   Gender        200 non-null    int64   \n",
      " 2   Chest_pain    200 non-null    int64   \n",
      " 3   (trestbps)    144 non-null    object  \n",
      " 4   Cholestoral   193 non-null    object  \n",
      " 5   (fbs)         193 non-null    object  \n",
      " 6   (restecg)     200 non-null    int64   \n",
      " 7   (thalach)     147 non-null    object  \n",
      " 8   (exang)       147 non-null    object  \n",
      " 9    (oldpeak)    144 non-null    object  \n",
      " 10   (slope)      98 non-null     object  \n",
      " 11   (thal)       34 non-null     object  \n",
      " 12  Heart_attack  200 non-null    int64   \n",
      " 13  age_group     200 non-null    category\n",
      "dtypes: category(1), int64(5), object(8)\n",
      "memory usage: 20.8+ KB\n"
     ]
    }
   ],
   "source": [
    "df.info()"
   ]
  },
  {
   "cell_type": "code",
   "execution_count": 11,
   "metadata": {},
   "outputs": [],
   "source": [
    "#converting the object column to integer or float\n",
    "columns=[\" (oldpeak)\",\"(thalach)\",\"(trestbps)\",\"Cholestoral\",\"(exang)\",\"(fbs)\",\" (slope)\",\" (thal)\"]\n",
    "for i in columns:\n",
    "    df[i] = pd.to_numeric(df[i], errors='coerce')"
   ]
  },
  {
   "cell_type": "markdown",
   "metadata": {},
   "source": [
    " Replacing missing value"
   ]
  },
  {
   "cell_type": "code",
   "execution_count": 12,
   "metadata": {},
   "outputs": [],
   "source": [
    "#similarly doing it for \"(chol)\" as it has zero instead of nan\n",
    "df[\"Cholestoral\"].replace(to_replace=0,value=nan,inplace=True)"
   ]
  },
  {
   "cell_type": "code",
   "execution_count": 13,
   "metadata": {},
   "outputs": [],
   "source": [
    "#creating a function with coninous values to replace median\n",
    "columns=[\" (oldpeak)\",\"(thalach)\",\"(trestbps)\",\"Cholestoral\"]\n",
    "for i in columns:\n",
    "    df[i]=df[i].fillna(df[i].median())\n",
    "\n",
    "\n"
   ]
  },
  {
   "cell_type": "code",
   "execution_count": 14,
   "metadata": {},
   "outputs": [
    {
     "data": {
      "text/plain": [
       "7.0    22\n",
       "6.0     8\n",
       "3.0     4\n",
       "Name:  (thal), dtype: int64"
      ]
     },
     "execution_count": 14,
     "metadata": {},
     "output_type": "execute_result"
    }
   ],
   "source": [
    "df[' (thal)'].value_counts()"
   ]
  },
  {
   "cell_type": "code",
   "execution_count": 15,
   "metadata": {},
   "outputs": [
    {
     "data": {
      "text/plain": [
       "0.0    125\n",
       "1.0     68\n",
       "Name: (fbs), dtype: int64"
      ]
     },
     "execution_count": 15,
     "metadata": {},
     "output_type": "execute_result"
    }
   ],
   "source": [
    "df['(fbs)'].value_counts()"
   ]
  },
  {
   "cell_type": "code",
   "execution_count": 16,
   "metadata": {
    "scrolled": true
   },
   "outputs": [
    {
     "data": {
      "text/plain": [
       "1.0    95\n",
       "0.0    52\n",
       "Name: (exang), dtype: int64"
      ]
     },
     "execution_count": 16,
     "metadata": {},
     "output_type": "execute_result"
    }
   ],
   "source": [
    "df['(exang)'].value_counts()"
   ]
  },
  {
   "cell_type": "code",
   "execution_count": 17,
   "metadata": {},
   "outputs": [
    {
     "data": {
      "text/plain": [
       "2.0    53\n",
       "3.0    29\n",
       "1.0    16\n",
       "Name:  (slope), dtype: int64"
      ]
     },
     "execution_count": 17,
     "metadata": {},
     "output_type": "execute_result"
    }
   ],
   "source": [
    "df[' (slope)'].value_counts()"
   ]
  },
  {
   "cell_type": "code",
   "execution_count": 18,
   "metadata": {},
   "outputs": [],
   "source": [
    "df['(exang)']=df['(exang)'].fillna(1)\n",
    "df['(fbs)']=df['(fbs)'].fillna(0)\n",
    "df[\" (slope)\"]=df[\" (slope)\"].fillna(2)\n",
    "df[\" (thal)\"]=df[\" (thal)\"].fillna(7)\n",
    "\n",
    "#replacing with the highest value"
   ]
  },
  {
   "cell_type": "markdown",
   "metadata": {},
   "source": [
    "VISUALIZATION"
   ]
  },
  {
   "cell_type": "code",
   "execution_count": 19,
   "metadata": {},
   "outputs": [
    {
     "data": {
      "text/plain": [
       "<matplotlib.axes._subplots.AxesSubplot at 0x16a29501ac0>"
      ]
     },
     "execution_count": 19,
     "metadata": {},
     "output_type": "execute_result"
    },
    {
     "data": {
      "image/png": "[encoded data removed]",
      "text/plain": [
       "<Figure size 432x288 with 1 Axes>"
      ]
     },
     "metadata": {
      "needs_background": "light"
     },
     "output_type": "display_data"
    }
   ],
   "source": [
    "pd.crosstab(df.Gender,df.Heart_attack).plot(kind='bar')\n",
    "#as per this graph maximux casess for heart_attack is for male "
   ]
  },
  {
   "cell_type": "code",
   "execution_count": 20,
   "metadata": {},
   "outputs": [],
   "source": [
    "age_labels = ['30-39', '40-49', '50-59', '60-69', '70-79']\n",
    "df['age_group'] = pd.cut(df[\"Age\"], range(30, 81, 10), right=False, labels=age_labels)\n",
    "#creating bins for age for visualization"
   ]
  },
  {
   "cell_type": "code",
   "execution_count": 21,
   "metadata": {},
   "outputs": [
    {
     "data": {
      "text/plain": [
       "<matplotlib.legend.Legend at 0x16a29befa90>"
      ]
     },
     "execution_count": 21,
     "metadata": {},
     "output_type": "execute_result"
    },
    {
     "data": {
      "image/png": "[encoded data removed]",
      "text/plain": [
       "<Figure size 432x288 with 1 Axes>"
      ]
     },
     "metadata": {
      "needs_background": "light"
     },
     "output_type": "display_data"
    }
   ],
   "source": [
    "ax=pd.crosstab(df.age_group,df[\"Heart_attack\"]).plot(kind='bar')\n",
    "ax.legend(bbox_to_anchor=(1.04,0.5), loc=\"center left\")"
   ]
  },
  {
   "cell_type": "markdown",
   "metadata": {},
   "source": [
    "Observation\n",
    "\n",
    "1. Dividing into bins and plotting ,we find that for the range 30-39 that presence of heart disease is very low\n",
    "\n",
    "2. For the age group 40-49 also low but few cases of heart \n",
    "\n",
    "3. For the age group 50-59 we can see that there is a presence of heart disease which is not that severe .\n",
    "\n",
    "4. For the age group 60-69 there is almost equal cases of 2 and 3 also there are few values =4 which means cases are there of severe heart disease\n",
    "\n",
    "5. For the age group 70-79 there are very less cases of heart disease although highest for 3"
   ]
  },
  {
   "cell_type": "code",
   "execution_count": 22,
   "metadata": {},
   "outputs": [
    {
     "data": {
      "text/plain": [
       "<matplotlib.legend.Legend at 0x16a29d40400>"
      ]
     },
     "execution_count": 22,
     "metadata": {},
     "output_type": "execute_result"
    },
    {
     "data": {
      "image/png": "[encoded data removed]",
      "text/plain": [
       "<Figure size 432x288 with 1 Axes>"
      ]
     },
     "metadata": {
      "needs_background": "light"
     },
     "output_type": "display_data"
    }
   ],
   "source": [
    "\n",
    "ax=pd.crosstab(df[\"Chest_pain\"],df[\"Heart_attack\"]).plot(kind='bar')\n",
    "ax.legend(bbox_to_anchor=(1.04,0.5), loc=\"center left\")"
   ]
  },
  {
   "cell_type": "markdown",
   "metadata": {},
   "source": [
    "Value 1: typical angina,Value 2: atypical angina, Value 3: non-anginal pain -- Value 4: asymptomatic\n",
    "  \n",
    " In the above we can see for value 4 which means asymptomatic the heart disease is very less however there are heart disease presence in case of 1 and 3\n"
   ]
  },
  {
   "cell_type": "code",
   "execution_count": 23,
   "metadata": {},
   "outputs": [
    {
     "data": {
      "text/plain": [
       "<matplotlib.axes._subplots.AxesSubplot at 0x16a29dbeaf0>"
      ]
     },
     "execution_count": 23,
     "metadata": {},
     "output_type": "execute_result"
    },
    {
     "data": {
      "image/png": "[encoded data removed]",
      "text/plain": [
       "<Figure size 432x288 with 1 Axes>"
      ]
     },
     "metadata": {
      "needs_background": "light"
     },
     "output_type": "display_data"
    }
   ],
   "source": [
    "\n",
    "sns.barplot(x=df[\"Heart_attack\"],y=df[\"Cholestoral\"],data=df)\n",
    "#we can drop this column as all the four has equal value"
   ]
  },
  {
   "cell_type": "code",
   "execution_count": 24,
   "metadata": {},
   "outputs": [
    {
     "data": {
      "text/plain": [
       "<matplotlib.axes._subplots.AxesSubplot at 0x16a29e5a760>"
      ]
     },
     "execution_count": 24,
     "metadata": {},
     "output_type": "execute_result"
    },
    {
     "data": {
      "image/png": "[encoded data removed]",
      "text/plain": [
       "<Figure size 432x288 with 1 Axes>"
      ]
     },
     "metadata": {
      "needs_background": "light"
     },
     "output_type": "display_data"
    }
   ],
   "source": [
    "pd.crosstab(df[\"(restecg)\"],df[\"Heart_attack\"]).plot(kind='bar')\n"
   ]
  },
  {
   "cell_type": "markdown",
   "metadata": {},
   "source": [
    "-  Value 0: normal -- Value 1: having ST-T wave abnormality (T wave inversions and/or ST elevation or depression of > 0.05 mV) -- Value 2: showing probable or definite left ventricular hypertrophy by Estes' criteria\n",
    "    \n",
    "    In caseof normal the value of 1 is high which means heart disease may be present but ver less same for 1 and 2"
   ]
  },
  {
   "cell_type": "code",
   "execution_count": 25,
   "metadata": {},
   "outputs": [
    {
     "data": {
      "text/plain": [
       "<matplotlib.axes._subplots.AxesSubplot at 0x16a29eead90>"
      ]
     },
     "execution_count": 25,
     "metadata": {},
     "output_type": "execute_result"
    },
    {
     "data": {
      "image/png": "[encoded data removed]",
      "text/plain": [
       "<Figure size 432x288 with 1 Axes>"
      ]
     },
     "metadata": {
      "needs_background": "light"
     },
     "output_type": "display_data"
    }
   ],
   "source": [
    "pd.crosstab(df[\"(exang)\"],df[\"Heart_attack\"]).plot(kind='bar')"
   ]
  },
  {
   "cell_type": "code",
   "execution_count": 26,
   "metadata": {
    "scrolled": true
   },
   "outputs": [
    {
     "data": {
      "text/plain": [
       "<matplotlib.axes._subplots.AxesSubplot at 0x16a29f5df40>"
      ]
     },
     "execution_count": 26,
     "metadata": {},
     "output_type": "execute_result"
    },
    {
     "data": {
      "image/png": "[encoded data removed]",
      "text/plain": [
       "<Figure size 432x288 with 1 Axes>"
      ]
     },
     "metadata": {
      "needs_background": "light"
     },
     "output_type": "display_data"
    }
   ],
   "source": [
    "pd.crosstab(df[\"(fbs)\"],df[\"Heart_attack\"]).plot(kind='bar')\n",
    "#fbs: (fasting blood sugar > 120 mg/dl) (1 = true; 0 = false\n"
   ]
  },
  {
   "cell_type": "markdown",
   "metadata": {},
   "source": [
    "We can see that for normal blood sugar the presnece of heart disease is less but in case  of high fbs we there are cases of heart disease"
   ]
  },
  {
   "cell_type": "code",
   "execution_count": 27,
   "metadata": {
    "scrolled": true
   },
   "outputs": [
    {
     "data": {
      "text/plain": [
       "Heart_attack    1.000000\n",
       " (oldpeak)      0.366526\n",
       "Age             0.287289\n",
       "(exang)         0.206541\n",
       "Chest_pain      0.168210\n",
       "Gender          0.147470\n",
       "(trestbps)      0.145444\n",
       " (slope)        0.142072\n",
       "Cholestoral     0.107266\n",
       " (thal)         0.080270\n",
       "(fbs)           0.048940\n",
       "(restecg)      -0.032800\n",
       "(thalach)      -0.073072\n",
       "Name: Heart_attack, dtype: float64"
      ]
     },
     "execution_count": 27,
     "metadata": {},
     "output_type": "execute_result"
    }
   ],
   "source": [
    "corr_matrix=df.corr()\n",
    "corr_matrix[\"Heart_attack\"].sort_values(ascending=False)\n",
    "#finding correlation  with respect to heart attack//\n"
   ]
  },
  {
   "cell_type": "code",
   "execution_count": 28,
   "metadata": {},
   "outputs": [
    {
     "data": {
      "image/png": "[encoded data removed]",
      "text/plain": [
       "<Figure size 1800x720 with 2 Axes>"
      ]
     },
     "metadata": {
      "needs_background": "light"
     },
     "output_type": "display_data"
    }
   ],
   "source": [
    "corr = df.corr()\n",
    "plt.figure(figsize=(25,10))\n",
    "sns.heatmap(corr,annot=True)\n",
    "plt.show()"
   ]
  },
  {
   "cell_type": "code",
   "execution_count": 29,
   "metadata": {},
   "outputs": [],
   "source": [
    "df.drop(columns=[\"age_group\",\"(thalach)\",\"(restecg)\",\" (thal)\"],axis=1,inplace=True)\n",
    "#Dropping columns with very low coorelation"
   ]
  },
  {
   "cell_type": "code",
   "execution_count": 30,
   "metadata": {
    "scrolled": false
   },
   "outputs": [
    {
     "name": "stdout",
     "output_type": "stream",
     "text": [
      "<class 'pandas.core.frame.DataFrame'>\n",
      "RangeIndex: 200 entries, 0 to 199\n",
      "Data columns (total 10 columns):\n",
      " #   Column        Non-Null Count  Dtype  \n",
      "---  ------        --------------  -----  \n",
      " 0   Age           200 non-null    int64  \n",
      " 1   Gender        200 non-null    int64  \n",
      " 2   Chest_pain    200 non-null    int64  \n",
      " 3   (trestbps)    200 non-null    float64\n",
      " 4   Cholestoral   200 non-null    float64\n",
      " 5   (fbs)         200 non-null    float64\n",
      " 6   (exang)       200 non-null    float64\n",
      " 7    (oldpeak)    200 non-null    float64\n",
      " 8    (slope)      200 non-null    float64\n",
      " 9   Heart_attack  200 non-null    int64  \n",
      "dtypes: float64(6), int64(4)\n",
      "memory usage: 15.8 KB\n"
     ]
    }
   ],
   "source": [
    "df.info()\n"
   ]
  },
  {
   "cell_type": "code",
   "execution_count": 31,
   "metadata": {
    "scrolled": true
   },
   "outputs": [
    {
     "data": {
      "text/plain": [
       "Age            -0.404091\n",
       "Gender         -5.552105\n",
       "Chest_pain     -1.648734\n",
       "(trestbps)     -1.320144\n",
       "Cholestoral     1.123096\n",
       "(fbs)           0.680636\n",
       "(exang)        -1.102593\n",
       " (oldpeak)      0.259052\n",
       " (slope)        0.210521\n",
       "Heart_attack    0.297393\n",
       "dtype: float64"
      ]
     },
     "execution_count": 31,
     "metadata": {},
     "output_type": "execute_result"
    }
   ],
   "source": [
    "df.skew()\n",
    "#checking the skewness "
   ]
  },
  {
   "cell_type": "code",
   "execution_count": 32,
   "metadata": {},
   "outputs": [],
   "source": [
    "#for treating skewed data\n",
    "from sklearn.preprocessing import power_transform\n",
    "df_skewed=power_transform(df,method=\"yeo-johnson\")\n",
    "df_new=pd.DataFrame(df_skewed,columns=df.columns)\n"
   ]
  },
  {
   "cell_type": "code",
   "execution_count": 33,
   "metadata": {},
   "outputs": [
    {
     "data": {
      "text/plain": [
       "Age             0.017837\n",
       "Gender         -5.552105\n",
       "Chest_pain     -0.771030\n",
       "(trestbps)      0.324408\n",
       "Cholestoral     0.013462\n",
       "(fbs)           0.680636\n",
       "(exang)        -1.102593\n",
       " (oldpeak)     -0.054503\n",
       " (slope)        0.066894\n",
       "Heart_attack   -0.087303\n",
       "dtype: float64"
      ]
     },
     "execution_count": 33,
     "metadata": {},
     "output_type": "execute_result"
    }
   ],
   "source": [
    "df_new.skew()"
   ]
  },
  {
   "cell_type": "code",
   "execution_count": 34,
   "metadata": {},
   "outputs": [
    {
     "name": "stdout",
     "output_type": "stream",
     "text": [
      "(array([ 28,  33,  51,  66,  72,  76,  79,  80,  82,  96,  97, 126, 128,\n",
      "       131, 133, 137, 176, 190, 195, 196, 198], dtype=int64), array([4, 3, 1, 2, 2, 2, 1, 4, 4, 0, 2, 1, 1, 2, 2, 2, 3, 1, 1, 2, 4],\n",
      "      dtype=int64))\n"
     ]
    }
   ],
   "source": [
    "\n",
    "from scipy import stats\n",
    "from scipy import stats\n",
    "import numpy as np\n",
    "z = np.abs(stats.zscore(df))\n",
    "threshold=3\n",
    "print(np.where(z>3))"
   ]
  },
  {
   "cell_type": "code",
   "execution_count": 35,
   "metadata": {},
   "outputs": [],
   "source": [
    "df =df[(z < 3).all(axis=1)]\n"
   ]
  },
  {
   "cell_type": "code",
   "execution_count": 36,
   "metadata": {
    "scrolled": false
   },
   "outputs": [
    {
     "data": {
      "text/plain": [
       "Age            -0.321555\n",
       "Gender          0.000000\n",
       "Chest_pain     -1.345464\n",
       "(trestbps)      0.699213\n",
       "Cholestoral     0.797883\n",
       "(fbs)           0.786066\n",
       "(exang)        -1.155832\n",
       " (oldpeak)      0.275720\n",
       " (slope)        0.223409\n",
       "Heart_attack    0.260793\n",
       "dtype: float64"
      ]
     },
     "execution_count": 36,
     "metadata": {},
     "output_type": "execute_result"
    }
   ],
   "source": [
    "df.skew()"
   ]
  },
  {
   "cell_type": "code",
   "execution_count": 37,
   "metadata": {
    "scrolled": true
   },
   "outputs": [
    {
     "name": "stdout",
     "output_type": "stream",
     "text": [
      "<class 'pandas.core.frame.DataFrame'>\n",
      "RangeIndex: 200 entries, 0 to 199\n",
      "Data columns (total 10 columns):\n",
      " #   Column        Non-Null Count  Dtype  \n",
      "---  ------        --------------  -----  \n",
      " 0   Age           200 non-null    float64\n",
      " 1   Gender        200 non-null    float64\n",
      " 2   Chest_pain    200 non-null    float64\n",
      " 3   (trestbps)    200 non-null    float64\n",
      " 4   Cholestoral   200 non-null    float64\n",
      " 5   (fbs)         200 non-null    float64\n",
      " 6   (exang)       200 non-null    float64\n",
      " 7    (oldpeak)    200 non-null    float64\n",
      " 8    (slope)      200 non-null    float64\n",
      " 9   Heart_attack  200 non-null    float64\n",
      "dtypes: float64(10)\n",
      "memory usage: 15.8 KB\n"
     ]
    }
   ],
   "source": [
    "df_new.info()"
   ]
  },
  {
   "cell_type": "code",
   "execution_count": 38,
   "metadata": {},
   "outputs": [],
   "source": [
    "df_new=df_new.astype(int)\n",
    "#converting all he columns into integer data type"
   ]
  },
  {
   "cell_type": "markdown",
   "metadata": {},
   "source": [
    "# MODEL EVALUTION\n",
    "It is a classification problem as we need to find that how severe is the heart disease if present on a scale of 1-4\n"
   ]
  },
  {
   "cell_type": "code",
   "execution_count": 39,
   "metadata": {},
   "outputs": [],
   "source": [
    "df_x=df_new.drop(columns=[\"Heart_attack\"],axis=1)\n",
    "y=df_new[\"Heart_attack\"]\n",
    "#creating input and output dataframe"
   ]
  },
  {
   "cell_type": "code",
   "execution_count": 40,
   "metadata": {},
   "outputs": [],
   "source": [
    "from sklearn.preprocessing import StandardScaler\n",
    "sc=StandardScaler()\n",
    "sc.fit(df_x)\n",
    "x=sc.transform(df_x)\n",
    "x=pd.DataFrame(x,columns=df_x.columns)\n",
    "#scaling the input column"
   ]
  },
  {
   "cell_type": "code",
   "execution_count": 41,
   "metadata": {},
   "outputs": [],
   "source": [
    "from sklearn.ensemble import RandomForestClassifier\n",
    "\n",
    "from sklearn.neighbors import KNeighborsClassifier\n",
    "from sklearn.tree import DecisionTreeClassifier\n",
    "from sklearn.metrics import accuracy_score,confusion_matrix,classification_report\n",
    "from sklearn.metrics import f1_score\n",
    "from sklearn import svm  \n",
    "from sklearn.metrics import precision_score\n",
    "from sklearn.model_selection import cross_val_score\n",
    "\n",
    "from sklearn.metrics import recall_score\n",
    "from sklearn.model_selection import train_test_split"
   ]
  },
  {
   "cell_type": "code",
   "execution_count": 42,
   "metadata": {},
   "outputs": [],
   "source": [
    "x_train,x_test,y_train,y_test=train_test_split(x, y,random_state = 45,test_size=0.20)"
   ]
  },
  {
   "cell_type": "code",
   "execution_count": 43,
   "metadata": {},
   "outputs": [
    {
     "name": "stdout",
     "output_type": "stream",
     "text": [
      "Score of DecisionTreeClassifier() is 0.55\n",
      "Cross val score: 0.4749999999999999\n",
      "\n",
      "\n",
      "Score of SVC() is 0.45\n",
      "Cross val score: 0.51\n",
      "\n",
      "\n",
      "Score of RandomForestClassifier() is 0.425\n",
      "Cross val score: 0.465\n",
      "\n",
      "\n",
      "Score of KNeighborsClassifier() is 0.45\n",
      "Cross val score: 0.465\n",
      "\n",
      "\n"
     ]
    }
   ],
   "source": [
    "model=[DecisionTreeClassifier(),svm.SVC(),RandomForestClassifier(),KNeighborsClassifier()]\n",
    "for m in model:\n",
    "    m.fit(x_train,y_train)\n",
    "    predm=m.predict(x_test)\n",
    "    print(\"Score of\",m,\"is\",m.score(x_test,y_test))\n",
    "    print(\"Cross val score:\",cross_val_score(m,x,y,cv=5,scoring=\"accuracy\").mean())\n",
    "    print(\"\\n\")"
   ]
  },
  {
   "cell_type": "code",
   "execution_count": 44,
   "metadata": {},
   "outputs": [
    {
     "name": "stdout",
     "output_type": "stream",
     "text": [
      "Best Hyper Parameters:\n",
      " {'C': 8, 'kernel': 'rbf'}\n"
     ]
    }
   ],
   "source": [
    "#using svc for further evalution\n",
    "from sklearn.model_selection import GridSearchCV\n",
    "model=svm.SVC(probability=True)\n",
    "#Hyper Parameters Set\n",
    "params = {'C': [6,7,8,9,10,11,12], \n",
    "          'kernel': ['linear','rbf']}\n",
    "#Making models with hyper parameters sets\n",
    "model1 = GridSearchCV(model, param_grid=params, n_jobs=-1)\n",
    "#Learning\n",
    "model1.fit(x,y)\n",
    "#The best hyper parameters set\n",
    "print(\"Best Hyper Parameters:\\n\",model1.best_params_)\n",
    "#Prediction\n"
   ]
  },
  {
   "cell_type": "code",
   "execution_count": 45,
   "metadata": {},
   "outputs": [
    {
     "name": "stdout",
     "output_type": "stream",
     "text": [
      "Accuracy for Random Forest on CV data:  0.85\n"
     ]
    }
   ],
   "source": [
    "#after grid search cv hyperparameter tuning\n",
    "model=svm.SVC(random_state=42,C=10, kernel='rbf',probability=True)\n",
    "model.fit(x, y)\n",
    "pred=model.predict(x_test)\n",
    "print(\"Accuracy for Random Forest on CV data: \",model.score(x_test,y_test))"
   ]
  },
  {
   "cell_type": "code",
   "execution_count": 46,
   "metadata": {},
   "outputs": [
    {
     "name": "stdout",
     "output_type": "stream",
     "text": [
      "Confusion matrix \n",
      " [[11  0  0]\n",
      " [ 1 19  0]\n",
      " [ 0  5  4]]\n",
      "classification report \n",
      "               precision    recall  f1-score   support\n",
      "\n",
      "          -1       0.92      1.00      0.96        11\n",
      "           0       0.79      0.95      0.86        20\n",
      "           1       1.00      0.44      0.62         9\n",
      "\n",
      "    accuracy                           0.85        40\n",
      "   macro avg       0.90      0.80      0.81        40\n",
      "weighted avg       0.87      0.85      0.83        40\n",
      "\n"
     ]
    }
   ],
   "source": [
    "#printing the report\n",
    "print(\"Confusion matrix \\n\",confusion_matrix(y_test,pred))\n",
    "print(\"classification report \\n\",classification_report(y_test,pred))"
   ]
  },
  {
   "cell_type": "code",
   "execution_count": 47,
   "metadata": {},
   "outputs": [],
   "source": [
    "df_output=pd.DataFrame(pred)\n",
    "df_output.to_csv('Output.csv') \n",
    "#saving the output in csv "
   ]
  },
  {
   "cell_type": "code",
   "execution_count": 48,
   "metadata": {},
   "outputs": [
    {
     "data": {
      "text/plain": [
       "['heart_attack.attrion']"
      ]
     },
     "execution_count": 48,
     "metadata": {},
     "output_type": "execute_result"
    }
   ],
   "source": [
    "import joblib\n",
    "joblib.dump(model,\"heart_attack.attrion\")"
   ]
  },
  {
   "cell_type": "code",
   "execution_count": null,
   "metadata": {},
   "outputs": [],
   "source": []
  }
 ],
 "metadata": {
  "kernelspec": {
   "display_name": "Python 3",
   "language": "python",
   "name": "python3"
  },
  "language_info": {
   "codemirror_mode": {
    "name": "ipython",
    "version": 3
   },
   "file_extension": ".py",
   "mimetype": "text/x-python",
   "name": "python",
   "nbconvert_exporter": "python",
   "pygments_lexer": "ipython3",
   "version": "3.8.3"
  }
 },
 "nbformat": 4,
 "nbformat_minor": 4
}
